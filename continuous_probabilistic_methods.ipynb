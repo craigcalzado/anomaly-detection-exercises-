{
 "cells": [
  {
   "cell_type": "code",
   "execution_count": 1,
   "metadata": {},
   "outputs": [],
   "source": [
    "import numpy as np\n",
    "import pandas as pd\n",
    "import matplotlib.pyplot as plt\n",
    "import seaborn as sns\n",
    "import itertools\n",
    "from pydataset import data"
   ]
  },
  {
   "cell_type": "code",
   "execution_count": null,
   "metadata": {},
   "outputs": [],
   "source": [
    "#1. Define a function named get_lower_and_upper_bounds that has two arguments. \n",
    "# The first argument is a pandas Series. \n",
    "# The second argument is the multiplier, which should have a default argument of 1.5.\n",
    "\n",
    "def get_lower_and_upper_bounds(series, multiplier=1.5):\n",
    "    \"\"\"\n",
    "    Returns the lower and upper bounds of a series.\n",
    "    \"\"\"\n",
    "    return series.quantile(0.05) * multiplier, series.quantile(0.95) * multiplier\n",
    "    "
   ]
  }
 ],
 "metadata": {
  "interpreter": {
   "hash": "3067ead486e059ec00ffe7555bdb889e6e264a24dc711bf108106cc7baee8d5d"
  },
  "kernelspec": {
   "display_name": "Python 3.9.7 ('base')",
   "language": "python",
   "name": "python3"
  },
  "language_info": {
   "codemirror_mode": {
    "name": "ipython",
    "version": 3
   },
   "file_extension": ".py",
   "mimetype": "text/x-python",
   "name": "python",
   "nbconvert_exporter": "python",
   "pygments_lexer": "ipython3",
   "version": "3.9.7"
  },
  "orig_nbformat": 4
 },
 "nbformat": 4,
 "nbformat_minor": 2
}
